{
 "cells": [
  {
   "cell_type": "markdown",
   "metadata": {},
   "source": [
    "## Container recap"
   ]
  },
  {
   "cell_type": "markdown",
   "metadata": {},
   "source": [
    "#### What's the difference: Dockerfile / Containerfile vs Container Image vs Container?"
   ]
  },
  {
   "cell_type": "markdown",
   "metadata": {},
   "source": [
    "source code - Dockerfile fisier cu instructiuni \n",
    "executabil in urma compilarii - Rezultatul buidului unui Dockerfile -> binar executabil\n",
    "process rezultat in urma executarii binarului - Instantierea imaginii"
   ]
  },
  {
   "cell_type": "markdown",
   "metadata": {},
   "source": [
    "#### What are containers useful for?"
   ]
  },
  {
   "cell_type": "markdown",
   "metadata": {},
   "source": [
    "Asigura un environment stabil indiferent de hostul pe care ruleaza\n",
    "In environment se afla si toate dependintele ei\n",
    "\n",
    "Why not VM?\n",
    "Overhead ca resurse"
   ]
  },
  {
   "cell_type": "markdown",
   "metadata": {},
   "source": [
    "#### What system resources may need a container?"
   ]
  },
  {
   "cell_type": "markdown",
   "metadata": {},
   "source": [
    "process: cpu, memory, I/O (network, file system)"
   ]
  },
  {
   "cell_type": "markdown",
   "metadata": {},
   "source": [
    "#### What types of OS namespace do you know?"
   ]
  },
  {
   "cell_type": "markdown",
   "metadata": {},
   "source": [
    "Namespace types:\n",
    "1. Mount - isolate filesystem mount points\n",
    "2. UTS - isolate hostname and domainname\n",
    "3. IPC - isolate interprocess communication\n",
    "4. PID - isolate the PID number space\n",
    "5. Network - isolate network interfaces\n",
    "6. User - isolate UID / GID spaces\n",
    "7. Cgroup - isolate cgroup root directory\n",
    "8. Time - isolate the system time"
   ]
  },
  {
   "cell_type": "markdown",
   "metadata": {},
   "source": [
    "#### What are Cgroups?"
   ]
  },
  {
   "cell_type": "markdown",
   "metadata": {},
   "source": [
    "Cgroups (control groups) represent a kernel feature that allows to allocate system resources such as CPU, memory, network, I/O to different processes."
   ]
  }
 ],
 "metadata": {
  "kernelspec": {
   "display_name": "Javascript (Node.js)",
   "language": "javascript",
   "name": "javascript"
  },
  "language_info": {
   "file_extension": ".js",
   "mimetype": "application/javascript",
   "name": "javascript",
   "version": "16.2.0"
  }
 },
 "nbformat": 4,
 "nbformat_minor": 2
}
