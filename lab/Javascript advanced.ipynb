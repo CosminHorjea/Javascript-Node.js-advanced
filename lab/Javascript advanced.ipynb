{
 "cells": [
  {
   "cell_type": "markdown",
   "metadata": {},
   "source": [
    "## Javascript advanced "
   ]
  },
  {
   "cell_type": "markdown",
   "metadata": {},
   "source": [
    "### Prototype inheritance"
   ]
  },
  {
   "cell_type": "markdown",
   "metadata": {},
   "source": [
    "JavaScript objects are dynamic \"bags\" of properties (referred to as own properties)."
   ]
  },
  {
   "cell_type": "code",
   "execution_count": 1,
   "metadata": {},
   "outputs": [
    {
     "name": "stdout",
     "output_type": "stream",
     "text": [
      "[ 'a', 'b' ]\n",
      "[ 'a', 'b', 'c' ]\n",
      "[ 'a', 'c' ]\n"
     ]
    }
   ],
   "source": [
    "const gigel = {\n",
    "    a: 1,\n",
    "    b: 2\n",
    "};\n",
    "console.log(Object.getOwnPropertyNames(gigel));\n",
    "\n",
    "gigel.c = 3;\n",
    "console.log(Object.getOwnPropertyNames(gigel));\n",
    "\n",
    "delete gigel.b;\n",
    "console.log(Object.getOwnPropertyNames(gigel));"
   ]
  },
  {
   "cell_type": "markdown",
   "metadata": {},
   "source": [
    "JavaScript objects have a link to a prototype object. \n",
    "When trying to access a property of an object, the property will not only be sought on the object but on the prototype of the object and recursively on its ancestors."
   ]
  },
  {
   "cell_type": "code",
   "execution_count": 2,
   "metadata": {},
   "outputs": [
    {
     "name": "stdout",
     "output_type": "stream",
     "text": [
      "OldSchoolJsClass.prototype != Object.getPrototypeOf(OldSchoolJsClass)\n",
      "{}\n",
      "function () { [native code] }\n"
     ]
    },
    {
     "data": {
      "text/plain": [
       "4"
      ]
     },
     "execution_count": 2,
     "metadata": {},
     "output_type": "execute_result"
    }
   ],
   "source": [
    "function OldSchoolJsClass() {\n",
    "    this.a = 1;\n",
    "    this.b = 2;\n",
    "}\n",
    "/**\n",
    " * BIG WARNING: This is the func.prototype property of functions != Object.getPrototypeOf() of objects.\n",
    " * It specifies the [[Prototype]] to be assigned to all instances of objects \n",
    " * created by the given function when used as a constructor.\n",
    " */\n",
    "console.log('OldSchoolJsClass.prototype != Object.getPrototypeOf(OldSchoolJsClass)');\n",
    "console.log(OldSchoolJsClass.prototype);\n",
    "console.log(Object.getPrototypeOf(OldSchoolJsClass).toString());\n",
    "\n",
    "OldSchoolJsClass.prototype.b = 3;\n",
    "OldSchoolJsClass.prototype.c = 4;"
   ]
  },
  {
   "cell_type": "code",
   "execution_count": 3,
   "metadata": {
    "scrolled": true
   },
   "outputs": [
    {
     "name": "stdout",
     "output_type": "stream",
     "text": [
      "[ 'a', 'b' ]\n",
      "{ b: 3, c: 4 }\n",
      "a=1, b=2, c=4\n"
     ]
    }
   ],
   "source": [
    "const ionel = new OldSchoolJsClass();\n",
    "\n",
    "console.log(Object.getOwnPropertyNames(ionel));\n",
    "console.log(Object.getPrototypeOf(ionel));\n",
    "\n",
    "console.log(`a=${ionel.a}, b=${ionel.b}, c=${ionel.c}`);"
   ]
  },
  {
   "cell_type": "markdown",
   "metadata": {},
   "source": [
    "JavaScript does not have \"methods\" in the form that class-based languages define them. In JavaScript, any function can be added to an object in the form of a property."
   ]
  },
  {
   "cell_type": "code",
   "execution_count": 4,
   "metadata": {},
   "outputs": [
    {
     "name": "stdout",
     "output_type": "stream",
     "text": [
      "[BEFORE]: this.a=1\n",
      "[AFTER]: this.a=6\n"
     ]
    },
    {
     "data": {
      "text/plain": [
       "Timeout {\n",
       "  _idleTimeout: 1000,\n",
       "  _idlePrev: [TimersList],\n",
       "  _idleNext: [Timeout],\n",
       "  _idleStart: 10150,\n",
       "  _onTimeout: [Function: bound ],\n",
       "  _timerArgs: [Array],\n",
       "  _repeat: null,\n",
       "  _destroyed: false,\n",
       "  [Symbol(refed)]: true,\n",
       "  [Symbol(kHasPrimitive)]: false,\n",
       "  [Symbol(asyncId)]: 36,\n",
       "  [Symbol(triggerId)]: 29\n",
       "}"
      ]
     },
     "execution_count": 4,
     "metadata": {},
     "output_type": "execute_result"
    },
    {
     "name": "stdout",
     "output_type": "stream",
     "text": [
      "[BEFORE]: this.a=undefined\n",
      "[AFTER]: this.a=NaN\n",
      "[BEFORE]: this.a=6\n",
      "[AFTER]: this.a=11\n"
     ]
    }
   ],
   "source": [
    "'use strict';\n",
    "\n",
    "OldSchoolJsClass.prototype.incrementA = function (value) {\n",
    "    console.log(`[BEFORE]: this.a=${this.a}`);\n",
    "    this.a += value;\n",
    "    console.log(`[AFTER]: this.a=${this.a}`);\n",
    "};\n",
    "\n",
    "ionel.incrementA(5);\n",
    "\n",
    "// Extremly frequent mistake\n",
    "setTimeout(/* function: */ ionel.incrementA, /* delay: */ 1000, /* arg1: */ 5);\n",
    "\n",
    "// Always bind the method to the instance before passing it as a reference\n",
    "setTimeout(ionel.incrementA.bind(ionel), 1000, 5);"
   ]
  },
  {
   "cell_type": "code",
   "execution_count": 5,
   "metadata": {},
   "outputs": [
    {
     "name": "stdout",
     "output_type": "stream",
     "text": [
      "[BEFORE]: this.a=10\n",
      "[AFTER]: this.a=15\n",
      "costel.a=15\n"
     ]
    }
   ],
   "source": [
    "function AnotherOldJsClass() {\n",
    "    this.x = 1;\n",
    "    this.y = 2;\n",
    "    this.a = 10;\n",
    "}\n",
    "\n",
    "const costel = new AnotherOldJsClass();\n",
    "OldSchoolJsClass.prototype.incrementA.call(costel, 5);\n",
    "\n",
    "console.log(`costel.a=${costel.a}`);"
   ]
  },
  {
   "cell_type": "code",
   "execution_count": 6,
   "metadata": {},
   "outputs": [
    {
     "name": "stdout",
     "output_type": "stream",
     "text": [
      "[ 'z', 'w' ]\n",
      "OldSchoolJsClass {}\n",
      "z=1, w=2, b=3, c=4\n",
      "[BEFORE]: this.a=undefined\n",
      "[AFTER]: this.a=NaN\n"
     ]
    }
   ],
   "source": [
    "'use strict';\n",
    "\n",
    "function InheritedOldJsClass() {\n",
    "    this.z = 1;\n",
    "    this.w = 2;\n",
    "}\n",
    "InheritedOldJsClass.prototype = Object.create(OldSchoolJsClass.prototype);\n",
    "InheritedOldJsClass.prototype.c = 5;\n",
    "\n",
    "const cornel = new InheritedOldJsClass();\n",
    "\n",
    "console.log(Object.getOwnPropertyNames(cornel));\n",
    "console.log(Object.getPrototypeOf(cornel));\n",
    "\n",
    "console.log(`z=${cornel.z}, w=${cornel.w}, b=${cornel.b}, c=${cornel.c}`);\n",
    "\n",
    "// Note that only prototype is queried in ancestors, their own properties are not\n",
    "cornel.incrementA(5);"
   ]
  },
  {
   "cell_type": "code",
   "execution_count": 7,
   "metadata": {},
   "outputs": [
    {
     "name": "stdout",
     "output_type": "stream",
     "text": [
      "[ 'a', 'b', 'c' ]\n",
      "{}\n",
      "[ 'a', 'b', 'c', 'x', 'y' ]\n",
      "ParentClass {}\n"
     ]
    }
   ],
   "source": [
    "class ParentClass {\n",
    "\n",
    "    constructor() {\n",
    "        this.a = 1;\n",
    "        this.b = 2;\n",
    "        this.c = 4;\n",
    "    }\n",
    "    \n",
    "    incrementA(value) {\n",
    "        console.log(`[BEFORE]: this.a=${this.a}`);\n",
    "        this.a += value;\n",
    "        console.log(`[AFTER]: this.a=${this.a}`);\n",
    "    }\n",
    "}\n",
    "\n",
    "class ChildClass extends ParentClass {\n",
    "    \n",
    "    constructor() {\n",
    "        super();\n",
    "\n",
    "        this.x = 1;\n",
    "        this.y = 2;\n",
    "        this.a = 10;\n",
    "    }\n",
    "}\n",
    "\n",
    "const parent = new ParentClass();\n",
    "console.log(Object.getOwnPropertyNames(parent));\n",
    "console.log(Object.getPrototypeOf(parent));\n",
    "\n",
    "const child = new ChildClass();\n",
    "console.log(Object.getOwnPropertyNames(child));\n",
    "console.log(Object.getPrototypeOf(child));"
   ]
  },
  {
   "cell_type": "code",
   "execution_count": 8,
   "metadata": {},
   "outputs": [
    {
     "name": "stdout",
     "output_type": "stream",
     "text": [
      "[BEFORE]: this.a=1\n",
      "[AFTER]: this.a=6\n",
      "parent.a = 6\n",
      "[BEFORE]: this.a=10\n",
      "[AFTER]: this.a=15\n",
      "child.a = 15\n"
     ]
    },
    {
     "data": {
      "text/plain": [
       "Timeout {\n",
       "  _idleTimeout: 1000,\n",
       "  _idlePrev: [TimersList],\n",
       "  _idleNext: [TimersList],\n",
       "  _idleStart: 682621,\n",
       "  _onTimeout: [Function: bound incrementA],\n",
       "  _timerArgs: [Array],\n",
       "  _repeat: null,\n",
       "  _destroyed: false,\n",
       "  [Symbol(refed)]: true,\n",
       "  [Symbol(kHasPrimitive)]: false,\n",
       "  [Symbol(asyncId)]: 75,\n",
       "  [Symbol(triggerId)]: 69\n",
       "}"
      ]
     },
     "execution_count": 8,
     "metadata": {},
     "output_type": "execute_result"
    },
    {
     "name": "stdout",
     "output_type": "stream",
     "text": [
      "[BEFORE]: this.a=15\n",
      "[AFTER]: this.a=20\n"
     ]
    }
   ],
   "source": [
    "parent.incrementA(5);\n",
    "console.log(`parent.a = ${parent.a}`);\n",
    "\n",
    "child.incrementA(5);\n",
    "console.log(`child.a = ${child.a}`);\n",
    "\n",
    "// Always bind the method to the instance before passing it as a reference\n",
    "// Also, spot the binding\n",
    "setTimeout(parent.incrementA.bind(child), 1000, 5);"
   ]
  },
  {
   "cell_type": "markdown",
   "metadata": {},
   "source": [
    "### Arrow functions"
   ]
  },
  {
   "cell_type": "markdown",
   "metadata": {},
   "source": [
    "From now on I'll mainly use arrow functions.\n",
    "\n",
    "The main take away:\n",
    "* Should not be used as methods\n",
    "* Not suitable for call, apply and bind functions\n",
    "\n",
    "They are much nicer to use, but take care that they capture 'this' at the moment they are defined, as opposed to regular functions that can be binded at call time to whatever 'this' you like.\n",
    "\n",
    "For more details read https://developer.mozilla.org/en-US/docs/Web/JavaScript/Reference/Functions/Arrow_functions\n"
   ]
  },
  {
   "cell_type": "markdown",
   "metadata": {},
   "source": [
    "### Callbaks vs Promises vs async / await"
   ]
  },
  {
   "cell_type": "markdown",
   "metadata": {},
   "source": [
    "A Promise is a proxy for a value not necessarily known when the promise is created.\n",
    "\n",
    "It's the modern replacement for the callback pattern, known also as the callback hell. \n",
    "\n",
    "I'm wondering why?"
   ]
  },
  {
   "cell_type": "code",
   "execution_count": 9,
   "metadata": {},
   "outputs": [
    {
     "name": "stderr",
     "output_type": "stream",
     "text": [
      "Error: wrong pocket, my son\n",
      "    at dropItLikeItsHot (evalmachine.<anonymous>:10:69)\n",
      "    at Timeout._onTimeout (evalmachine.<anonymous>:48:9)\n",
      "    at listOnTimeout (node:internal/timers:559:11)\n",
      "    at processTimers (node:internal/timers:500:7)\n"
     ]
    }
   ],
   "source": [
    "function doSomething(someArg, callback) {\n",
    "    setTimeout(/* function: */callback, /* delay: */1000, /* arg1 */null, /* arg2: */`${someArg}: great success`);\n",
    "}\n",
    "\n",
    "function doSomethingElse(someArg, callback) {\n",
    "    setTimeout(/* function: */callback, /* delay: */1000, /* arg1 */null, /* arg2: */`${someArg}: not good, not terrible`);\n",
    "}\n",
    "\n",
    "function dropItLikeItsHot(callback) {\n",
    "    setTimeout(/* function: */callback, /* delay: */1000, /* arg1 */new Error('wrong pocket, my son'), /* arg2: */null);\n",
    "}\n",
    "\n",
    "function hardToImplementCorrectly(someArg, callback) {\n",
    "    \n",
    "    let endResult = '';\n",
    "    let errorEncountered = null;\n",
    "    let asyncCallsToComplete = 3;\n",
    "    \n",
    "    doSomething(someArg, (err, result) => {\n",
    "    \n",
    "        --asyncCallsToComplete;\n",
    "        \n",
    "        if (err) {\n",
    "            callback(err, null);\n",
    "            return; // early return because operations below depend on this result\n",
    "        }\n",
    "        \n",
    "        endResult += result;\n",
    "\n",
    "        doSomethingElse(result, (err, result) => {\n",
    "\n",
    "            if (err) {\n",
    "                errorEncountered = err;\n",
    "            } else {\n",
    "                endResult += result;\n",
    "            }\n",
    "            \n",
    "            if (--asyncCallsToComplete === 0) {\n",
    "                \n",
    "                if (err) {\n",
    "                    callback(errorEncountered, null);\n",
    "                } else {\n",
    "                    callback(null, endResult);\n",
    "                }\n",
    "            }\n",
    "        });\n",
    "        \n",
    "        dropItLikeItsHot((err, result) => {\n",
    "\n",
    "            if (err) {\n",
    "                errorEncountered = err;\n",
    "            } else {\n",
    "                endResult += result;\n",
    "            }\n",
    "            \n",
    "            if (--asyncCallsToComplete === 0) {\n",
    "                \n",
    "                if (err) {\n",
    "                    callback(errorEncountered, null);\n",
    "                } else {\n",
    "                    callback(null, endResult);\n",
    "                }\n",
    "            }\n",
    "        });    \n",
    "    });\n",
    "}\n",
    "\n",
    "hardToImplementCorrectly('Borat', (err, res) => {\n",
    "    if (err) {\n",
    "        console.error(err);\n",
    "        return;\n",
    "    }\n",
    "    console.info(res);\n",
    "});"
   ]
  },
  {
   "cell_type": "markdown",
   "metadata": {},
   "source": [
    "Promises simplify control flow, although not enough, by chaining callbacks instead of nesting them."
   ]
  },
  {
   "cell_type": "code",
   "execution_count": 11,
   "metadata": {},
   "outputs": [
    {
     "name": "stderr",
     "output_type": "stream",
     "text": [
      "Error: wrong pocket, my son\n",
      "    at evalmachine.<anonymous>:18:71\n",
      "    at new Promise (<anonymous>)\n",
      "    at dropItLikeItsHot (evalmachine.<anonymous>:17:12)\n",
      "    at evalmachine.<anonymous>:29:17\n"
     ]
    }
   ],
   "source": [
    "function doSomething(someArg) {\n",
    "\n",
    "    return new Promise((resolve, reject) => {\n",
    "        setTimeout(/* function: */resolve, /* delay: */1000, /* arg: */`${someArg}: great success`);\n",
    "    });\n",
    "}\n",
    "\n",
    "function doSomethingElse(someArg) {\n",
    "    \n",
    "    return new Promise((resolve, reject) => {\n",
    "        setTimeout(/* function: */resolve, /* delay: */1000, /* arg: */`${someArg}: not good, not terrible`);\n",
    "    });\n",
    "}\n",
    "\n",
    "function dropItLikeItsHot() {\n",
    "    \n",
    "    return new Promise((resolve, reject) => {\n",
    "         setTimeout(/* function: */reject, /* delay: */1000, /* arg */new Error('wrong pocket, my son'));\n",
    "    });\n",
    "}\n",
    "\n",
    "function easierToImplementCorrectly(someArg) {\n",
    "    \n",
    "    return doSomething(someArg)\n",
    "        .then((result) => {\n",
    "\n",
    "            return Promise.all([\n",
    "                doSomethingElse(result),\n",
    "                dropItLikeItsHot()\n",
    "            ]);\n",
    "        })\n",
    "        .then(([resultSomethingElse, resultDropItLikeItsHot]) => resultSomethingElse + resultDropItLikeItsHot);\n",
    "}\n",
    "\n",
    "easierToImplementCorrectly('Borat')\n",
    "    .then(result => console.log(result))\n",
    "    .catch(err => console.error(err));"
   ]
  },
  {
   "cell_type": "markdown",
   "metadata": {},
   "source": [
    "The most recent simplification to Promises API is async / await, which allows to suspend an async function execution while waiting for a Promise to either resolve or reject.\n",
    "\n",
    "In this way, you can write code in an imperative manner, like you would do when using synchronous APIs.\n",
    "\n",
    "Also, it allows to perform error handling with try { } catch { } blocks that, again, resemble to synchronous implementations. "
   ]
  },
  {
   "cell_type": "code",
   "execution_count": 12,
   "metadata": {},
   "outputs": [
    {
     "name": "stderr",
     "output_type": "stream",
     "text": [
      "Error: wrong pocket, my son\n",
      "    at evalmachine.<anonymous>:18:71\n",
      "    at new Promise (<anonymous>)\n",
      "    at dropItLikeItsHot (evalmachine.<anonymous>:17:12)\n",
      "    at stronglyRecommendedImplementation (evalmachine.<anonymous>:6:9)\n",
      "    at async evalmachine.<anonymous>:14:9\n"
     ]
    }
   ],
   "source": [
    "async function stronglyRecommendedImplementation(someArg) {\n",
    "    \n",
    "    const result = await doSomething(someArg);\n",
    "    const [resultSomethingElse, resultDropItLikeItsHot] = await Promise.all([\n",
    "        doSomethingElse(result),\n",
    "        dropItLikeItsHot()\n",
    "    ]);\n",
    "    return resultSomethingElse + resultDropItLikeItsHot;\n",
    "}\n",
    "\n",
    "(async () => { // this is because we cannot use await keyword top level, just in async functions\n",
    "    \n",
    "    try {\n",
    "        await stronglyRecommendedImplementation('Borat');\n",
    "    } catch (err) {\n",
    "        console.error(err);\n",
    "    }\n",
    "    \n",
    "})();"
   ]
  },
  {
   "cell_type": "code",
   "execution_count": null,
   "metadata": {},
   "outputs": [],
   "source": []
  }
 ],
 "metadata": {
  "kernelspec": {
   "display_name": "Javascript (Node.js)",
   "language": "javascript",
   "name": "javascript"
  },
  "language_info": {
   "file_extension": ".js",
   "mimetype": "application/javascript",
   "name": "javascript",
   "version": "16.2.0"
  }
 },
 "nbformat": 4,
 "nbformat_minor": 2
}
